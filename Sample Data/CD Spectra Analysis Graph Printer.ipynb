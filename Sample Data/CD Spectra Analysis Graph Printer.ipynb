{
 "cells": [
  {
   "cell_type": "markdown",
   "metadata": {},
   "source": [
    "In order to be able to graph multiple spectra simultaneously, glob was used to import multiple files into an empty list called Data."
   ]
  },
  {
   "cell_type": "markdown",
   "metadata": {},
   "source": [
    "This adds the names of all files with the .txt suffix into the 'Data' list"
   ]
  },
  {
   "cell_type": "code",
   "execution_count": null,
   "metadata": {},
   "outputs": [],
   "source": [
    "import glob\n",
    "Data = []\n",
    "for each_file in glob.iglob('*.txt'):\n",
    "    Data.append(each_file)\n",
    "print(Data)"
   ]
  },
  {
   "cell_type": "markdown",
   "metadata": {},
   "source": [
    "Once read in the next challenge is to read in all of the files in the Data list and putting it in the new list Data1. At the same time the column names were changed to be more informative. MRE is the main value we are interested in."
   ]
  },
  {
   "cell_type": "code",
   "execution_count": null,
   "metadata": {},
   "outputs": [],
   "source": [
    "import pandas as pd\n",
    "Data1 = []\n",
    "for each_file in Data:\n",
    "    each_file = pd.read_csv(each_file, skiprows=19,  sep='\\s+' , header=None)\n",
    "    each_file = each_file.rename(columns = \n",
    "           {0:\"Wavelength\", 1:\"MRE\", 2:\"HTV\"})\n",
    "    Data1.append(each_file)\n",
    "print(Data1)"
   ]
  },
  {
   "cell_type": "markdown",
   "metadata": {},
   "source": [
    "These two lists were then zipped together to form the dictionary dict1 so that they can be linked and information could be extracted from the name of the files."
   ]
  },
  {
   "cell_type": "code",
   "execution_count": null,
   "metadata": {
    "scrolled": false
   },
   "outputs": [],
   "source": [
    "dict1 = dict(zip(Data,Data1))\n",
    "print(dict1)\n",
    "    "
   ]
  },
  {
   "cell_type": "markdown",
   "metadata": {},
   "source": [
    "Having established this dictionary we next need to be able to be able to pull out the blank data and then subtract this from the blank MRE data from sample data. First we need to be able to recognise the word 'blank' in the title and the pull that from the dictionary. Initially tried using wild card characters as with glob but these are not supported and requires the fnmatch module. We import this and the check to see if it is working."
   ]
  },
  {
   "cell_type": "code",
   "execution_count": null,
   "metadata": {},
   "outputs": [],
   "source": [
    "import fnmatch\n",
    "fnmatch.fnmatch('test', 't??t')"
   ]
  },
  {
   "cell_type": "markdown",
   "metadata": {},
   "source": [
    "Next we create a loop using fnmatch to identify variables in the dictionary that include the word blank in the title, extract it and put it in the empty 'blank' list. Initially this code did not work as the source it was adapted from (https://stackoverflow.com/questions/52656701/wildcard-in-dictionary-key) used it to produce flexible keys within dictionaries. This was solved by changing 'if fnmatch.fnmatch(blank_identification, name):' to 'if fnmatch.fnmatch(name, blank_identification):'. After this, I needed to remove the blank dataset from the dictionary which proved harder than expected as its name would change. Adding del() or pop() functions into the for loop didn't work as it changed the length of the dictionary in the middle of a for loop which through up an error."
   ]
  },
  {
   "cell_type": "code",
   "execution_count": null,
   "metadata": {
    "scrolled": false
   },
   "outputs": [],
   "source": [
    "from pandas import DataFrame\n",
    "blank_identification = 'B_*'\n",
    "for name, data in dict1.items():\n",
    "    if fnmatch.fnmatch(name, blank_identification):\n",
    "        blank = pd.DataFrame(data)\n",
    "print(blank)\n",
    "print(blank[\"MRE\"])"
   ]
  },
  {
   "cell_type": "markdown",
   "metadata": {},
   "source": [
    "The problem of removing the blank was done using a rather round about method. By using a for loop to search through the keys this time using 'dict1.keys()' the blank name could exported. Outside of the loop the pop() function could be used to remove the blank data set from the dictionary. This avoids problems later down the line, as the blank title code does not usually fit the same format as the samples which caused problems. It also had to be removed from the Data list of file names as this is used below to form the blanked_dict."
   ]
  },
  {
   "cell_type": "code",
   "execution_count": null,
   "metadata": {},
   "outputs": [],
   "source": [
    "blank_identification = 'B_*'\n",
    "for name in dict1.keys():\n",
    "    if fnmatch.fnmatch(name, blank_identification):\n",
    "        print(name)\n",
    "        blank_name = name\n",
    "print(dict1.pop(blank_name))\n",
    "Data.remove(blank_name)\n",
    "print(Data)"
   ]
  },
  {
   "cell_type": "markdown",
   "metadata": {},
   "source": [
    "To blank the data we must now subtract the MRE data in the blank list from the MRE data in library of samples. To do this we must loop through the library subtracting the data from each sample. Initially this was tried using a loop to call collumn 2 but this appeared to give the second row. To avoid this confusion collum was called using sample[\"MRE\"]."
   ]
  },
  {
   "cell_type": "code",
   "execution_count": null,
   "metadata": {
    "scrolled": false
   },
   "outputs": [],
   "source": [
    "blanked_data = []\n",
    "for sample in dict1.values():\n",
    "    df = pd.DataFrame(columns=['Wavelength', 'MRE', 'HTV'])\n",
    "    df[\"MRE\"] = (sample[\"MRE\"]-blank[\"MRE\"])\n",
    "    df[\"Wavelength\"] = sample[\"Wavelength\"]\n",
    "    df[\"HTV\"] = sample[\"HTV\"]\n",
    "    blanked_data.append(df)\n",
    "blanked_dict = dict(zip(Data,blanked_data))\n",
    "print(blanked_dict)"
   ]
  },
  {
   "cell_type": "markdown",
   "metadata": {},
   "source": [
    "This code uses the re module which is used to recognise patterns and in this case extracts data from it. re.match function utilises the standardised naming system, using the code at the beginning of each value (e.g. Tc for temp in celcius) and defines the value after that as a group (in brackets). Initially it was difficult for this extracted data to be used as it is extracted as a string. For each we therefore have to use the int() function to turn this from a string into an integer which can then be used later on. All of these values are used to calculate a 'normalisation factor' which is used to normalise the data to protein concentration, width of the cell it is measured in, and the total amide bonds in the protein you are measuring, so that the output values are comparable when these values vary."
   ]
  },
  {
   "cell_type": "code",
   "execution_count": null,
   "metadata": {},
   "outputs": [],
   "source": [
    "import re\n",
    "normalisation_factor = []\n",
    "for name in dict1.keys():\n",
    "    print(name)\n",
    "    m = re.match(r\".*Tc(.*)_TPC(.*)um_AB(.*)_PL(.*)mm_Ti_(.*).txt\", name)\n",
    "    Total_Protein_Concentration = m.group(2)\n",
    "    Total_Protein_Concentration = int(Total_Protein_Concentration)\n",
    "    print(Total_Protein_Concentration)\n",
    "    Total_Amide_Bonds = m.group(3)\n",
    "    Total_Amide_Bonds = int(Total_Amide_Bonds)\n",
    "    print(Total_Amide_Bonds)\n",
    "    Path_Length = m.group(4)\n",
    "    Path_Length = int(Path_Length)\n",
    "    print(Path_Length)\n",
    "    normalisation_factor.append(1000000/(Total_Protein_Concentration*Total_Amide_Bonds*Path_Length))\n",
    "print(normalisation_factor)"
   ]
  },
  {
   "cell_type": "markdown",
   "metadata": {},
   "source": [
    "In this section the normalisation factors are used to create a new dictionary (normalised_dict) where the blanked MRE data has been transformed to normalised data. Initially I tried to do this step in the same for loop as above without the need for storing the normalisation factors in their own list, but as the above loop cycles through the dictionary keys and we needed to loop through the values a different loop had to be used. "
   ]
  },
  {
   "cell_type": "code",
   "execution_count": null,
   "metadata": {
    "scrolled": false
   },
   "outputs": [],
   "source": [
    "i = 0\n",
    "normalised_data = []\n",
    "for data in blanked_dict.values():\n",
    "    df = pd.DataFrame(columns=['Wavelength', 'MRE', 'HTV'])\n",
    "    df['MRE'] = data['MRE']*normalisation_factor[i]\n",
    "    df[\"Wavelength\"] = data[\"Wavelength\"]\n",
    "    df[\"HTV\"] = data[\"HTV\"]\n",
    "    normalised_data.append(df)\n",
    "    i = i + 1\n",
    "normalised_dict = dict(zip(Data,normalised_data))\n",
    "print(normalised_dict)"
   ]
  },
  {
   "cell_type": "markdown",
   "metadata": {},
   "source": [
    "Using the same formula for the normalisation process the titles are extracted and put into their own list. This will then be used to add the titles to the graphs below."
   ]
  },
  {
   "cell_type": "code",
   "execution_count": null,
   "metadata": {},
   "outputs": [],
   "source": [
    "titles = []\n",
    "for names in Data:\n",
    "    m = re.match(r\".*Tc(.*)_TPC(.*)um_AB(.*)_PL(.*)mm_Ti_(.*).txt\", names)\n",
    "    Title = m.group(5)\n",
    "    titles.append(Title)\n",
    "print(titles)"
   ]
  },
  {
   "cell_type": "markdown",
   "metadata": {},
   "source": [
    "Plot the graph of the normalised data with wavelength. The characteristic double dip plot indicates that this protein is alpha helical."
   ]
  },
  {
   "cell_type": "code",
   "execution_count": null,
   "metadata": {},
   "outputs": [],
   "source": [
    "import matplotlib.pyplot as plt  \n",
    "import numpy as np\n",
    "i = 0\n",
    "for data in normalised_data:\n",
    "    heading = titles[i]\n",
    "    fig,ax=plt.subplots()\n",
    "    plt.title(heading + \" MRE vs Wavelength\")\n",
    "    data.plot(x = \"Wavelength\", y = \"MRE\", ax = ax)\n",
    "    plt.ylabel(\"MRE (deg cm2 (dmol res)-1)\")\n",
    "    ax.set_xlabel(\"Wavelength (nm)\")\n",
    "    \n",
    "    fig,ax1=plt.subplots()\n",
    "    plt.title(\"HTV vs Wavelength\")\n",
    "    data.plot(x = \"Wavelength\", y = \"HTV\", ax = ax1)\n",
    "    ax.set_xlabel(\"Wavelength (nm)\")\n",
    "    plt.ylabel(\"HTV (AU)\")\n",
    "    i = i + 1"
   ]
  }
 ],
 "metadata": {
  "kernelspec": {
   "display_name": "Python 3",
   "language": "python",
   "name": "python3"
  },
  "language_info": {
   "codemirror_mode": {
    "name": "ipython",
    "version": 3
   },
   "file_extension": ".py",
   "mimetype": "text/x-python",
   "name": "python",
   "nbconvert_exporter": "python",
   "pygments_lexer": "ipython3",
   "version": "3.8.3"
  }
 },
 "nbformat": 4,
 "nbformat_minor": 4
}
